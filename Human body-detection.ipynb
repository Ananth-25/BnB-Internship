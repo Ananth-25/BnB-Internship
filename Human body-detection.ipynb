{
  "nbformat": 4,
  "nbformat_minor": 0,
  "metadata": {
    "colab": {
      "name": "Untitled4.ipynb",
      "provenance": [],
      "collapsed_sections": [],
      "authorship_tag": "ABX9TyMZq2289E9FxObUvjiZKiFS",
      "include_colab_link": true
    },
    "kernelspec": {
      "name": "python3",
      "display_name": "Python 3"
    }
  },
  "cells": [
    {
      "cell_type": "markdown",
      "metadata": {
        "id": "view-in-github",
        "colab_type": "text"
      },
      "source": [
        "<a href=\"https://colab.research.google.com/github/Ananth-25/BnB-Internship/blob/master/Human%20body-detection.ipynb\" target=\"_parent\"><img src=\"https://colab.research.google.com/assets/colab-badge.svg\" alt=\"Open In Colab\"/></a>"
      ]
    },
    {
      "cell_type": "code",
      "metadata": {
        "id": "3lzJGWyIFYZk",
        "colab_type": "code",
        "colab": {}
      },
      "source": [
        "# -*- coding: utf-8 -*-\n",
        "\"\"\"videoplayback.ipynb\n",
        "\n",
        "\n",
        "\n",
        "import cv2\n",
        "import numpy as np\n",
        "\n",
        "cap = cv2.VideoCapture('videoplayback.mp4')\n",
        "frame_width = int( cap.get(cv2.CAP_PROP_FRAME_WIDTH))\n",
        "\n",
        "frame_height =int( cap.get( cv2.CAP_PROP_FRAME_HEIGHT))\n",
        "\n",
        "fourcc = cv2.VideoWriter_fourcc(*\"X264\")\n",
        "\n",
        "out = cv2.VideoWriter(\"output.mp4\", fourcc, 15.0, (1280, 360))\n",
        "\n",
        "ret, frame1 = cap.read()\n",
        "ret, frame2 = cap.read()\n",
        "print(frame1.shape)\n",
        "while cap.isOpened():\n",
        "    diff = cv2.absdiff(frame1, frame2)\n",
        "    gray = cv2.cvtColor(diff, cv2.COLOR_BGR2GRAY)\n",
        "    blur = cv2.GaussianBlur(gray, (5,5), 0)\n",
        "    _, thresh = cv2.threshold(blur, 20, 255, cv2.THRESH_BINARY)\n",
        "    dilated = cv2.dilate(thresh, None, iterations=3)\n",
        "    contours, _ = cv2.findContours(dilated, cv2.RETR_TREE, cv2.CHAIN_APPROX_SIMPLE)\n",
        "\n",
        "    for contour in contours:\n",
        "        (x, y, w, h) = cv2.boundingRect(contour)\n",
        "\n",
        "        if cv2.contourArea(contour) < 900:\n",
        "            continue\n",
        "        cv2.rectangle(frame1, (x, y), (x+w, y+h), (0, 255, 0), 2)\n",
        "        cv2.putText(frame1, \"Status: {}\".format('Movement'), (10, 20), cv2.FONT_HERSHEY_SIMPLEX,\n",
        "                    1, (0, 0, 255), 3)\n",
        "    #cv2.drawContours(frame1, contours, -1, (0, 255, 0), 2)\n",
        "\n",
        "    image = cv2.resize(frame1, (1280,720))\n",
        "    out.write(image)\n",
        "    cv2.imshow(\"feed\", frame1)\n",
        "    frame1 = frame2\n",
        "    ret, frame2 = cap.read()\n",
        "\n",
        "    if cv2.waitKey(40) == 27:\n",
        "        break\n",
        "\n",
        "cv2.destroyAllWindows()\n",
        "cap.release()\n",
        "out.release()"
      ],
      "execution_count": null,
      "outputs": []
    }
  ]
}