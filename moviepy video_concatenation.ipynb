{
  "nbformat": 4,
  "nbformat_minor": 0,
  "metadata": {
    "colab": {
      "name": "Untitled4.ipynb",
      "provenance": [],
      "collapsed_sections": [],
      "authorship_tag": "ABX9TyOAkWLNVZ3xy7SC4BhRW2uo",
      "include_colab_link": true
    },
    "kernelspec": {
      "name": "python3",
      "display_name": "Python 3"
    }
  },
  "cells": [
    {
      "cell_type": "markdown",
      "metadata": {
        "id": "view-in-github",
        "colab_type": "text"
      },
      "source": [
        "<a href=\"https://colab.research.google.com/github/Ananth-25/BnB-Internship/blob/master/moviepy%20video_concatenation.ipynb\" target=\"_parent\"><img src=\"https://colab.research.google.com/assets/colab-badge.svg\" alt=\"Open In Colab\"/></a>"
      ]
    },
    {
      "cell_type": "code",
      "metadata": {
        "id": "CpjevlbzG6Rv",
        "colab_type": "code",
        "colab": {}
      },
      "source": [
        "from moviepy.editor import VideoFileClip, concatenate_videoclips, CompositeVideoClip\n",
        "clip1=VideoFileClip('videoplayback.mp4')\n",
        "clip2=VideoFileClip('video1.mp4')\n",
        "final_clip=concatenate_videoclips([clip1,clip2])\n",
        "final_clip.write_videofile('Merge_videoplayback_video.mp4')\n"
      ],
      "execution_count": null,
      "outputs": []
    }
  ]
}