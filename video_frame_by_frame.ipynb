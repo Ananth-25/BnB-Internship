{
  "nbformat": 4,
  "nbformat_minor": 0,
  "metadata": {
    "colab": {
      "name": "Untitled4.ipynb",
      "provenance": [],
      "collapsed_sections": [],
      "authorship_tag": "ABX9TyPvO3f4dO/yXLXhuj/vMWAI",
      "include_colab_link": true
    },
    "kernelspec": {
      "name": "python3",
      "display_name": "Python 3"
    }
  },
  "cells": [
    {
      "cell_type": "markdown",
      "metadata": {
        "id": "view-in-github",
        "colab_type": "text"
      },
      "source": [
        "<a href=\"https://colab.research.google.com/github/Ananth-25/BnB-Internship/blob/master/video_frame_by_frame.ipynb\" target=\"_parent\"><img src=\"https://colab.research.google.com/assets/colab-badge.svg\" alt=\"Open In Colab\"/></a>"
      ]
    },
    {
      "cell_type": "code",
      "metadata": {
        "id": "LxXvlWv7HQxA",
        "colab_type": "code",
        "colab": {}
      },
      "source": [
        "\n",
        "from moviepy.editor import VideoFileClip, clips_array, vfx\n",
        "clip1 = VideoFileClip(\"videoplayback.mp4\").margin(10)\n",
        "clip1=clip1.set_start(1)\n",
        "clip2 = VideoFileClip(\"video1.mp4\").margin(10)\n",
        "clip2=clip2.set_start(74)\n",
        "\n",
        "\n",
        "final_clip = clips_array([[clip1, clip2]])\n",
        "\n",
        "final_clip.resize(width=480).write_videofile(\"my_stack.mp4\")"
      ],
      "execution_count": null,
      "outputs": []
    }
  ]
}